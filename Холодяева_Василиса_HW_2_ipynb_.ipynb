{
  "nbformat": 4,
  "nbformat_minor": 0,
  "metadata": {
    "kernelspec": {
      "display_name": "Python 3 (ipykernel)",
      "language": "python",
      "name": "python3"
    },
    "language_info": {
      "codemirror_mode": {
        "name": "ipython",
        "version": 3
      },
      "file_extension": ".py",
      "mimetype": "text/x-python",
      "name": "python",
      "nbconvert_exporter": "python",
      "pygments_lexer": "ipython3",
      "version": "3.8.6"
    },
    "colab": {
      "name": "Холодяева_Василиса_HW-2.ipynb\"",
      "provenance": [],
      "collapsed_sections": []
    }
  },
  "cells": [
    {
      "cell_type": "markdown",
      "metadata": {
        "id": "A3posBit_v77"
      },
      "source": [
        "# Домашнее задание №2 ( балла)\n",
        "\n",
        "## дедлайн 7 октября 18:10\n",
        "### 10 или 9 можно получить, если сдать домашнее задание полностью до 3 октября 23:59, а также верно выполнить задания со звездочками\n",
        "\n",
        "\n",
        "Цель:\n",
        "\n",
        "Отработать навыки работы с основными типами данных в Python.\n",
        "Отработать навыки работы с основными структурами данных в Python."
      ]
    },
    {
      "cell_type": "markdown",
      "metadata": {
        "id": "V3_p-c6m_v78"
      },
      "source": [
        "**NB!** Задания необходимо выполнять таким образом, что переменную/-ые можно было заменить на схожее слово/число/текст/список/и т.д., при этом задание все равно выполнялось бы верно."
      ]
    },
    {
      "cell_type": "markdown",
      "metadata": {
        "id": "5IHy3DUz_v8G"
      },
      "source": [
        "### Часть 1. Списки (16 баллов)"
      ]
    },
    {
      "cell_type": "markdown",
      "metadata": {
        "id": "LF37caBG_v8G"
      },
      "source": [
        "1. (2 балла) Пользователь вводит несколько чисел через запятую. Сделайте из этих чисел список, подсчитайте сумму элементов, среднее, максимальное и минимальное значение. Все результаты подсчетов выведите на экран"
      ]
    },
    {
      "cell_type": "code",
      "metadata": {
        "id": "-LK-7l2V_v8G",
        "colab": {
          "base_uri": "https://localhost:8080/"
        },
        "outputId": "23792740-7953-43c2-90db-ace6c36e6998"
      },
      "source": [
        "import statistics\n",
        "\n",
        "vvod = input().split(', ')\n",
        "\n",
        "spisok = [int(i) for i in vvod]\n",
        "print(spisok)\n",
        "\n",
        "print('Сумма', sum(spisok))\n",
        "print('Среднее', statistics.mean(spisok))\n",
        "print('Минимальное', min(spisok))\n",
        "print('Максимальное', max(spisok))"
      ],
      "execution_count": null,
      "outputs": [
        {
          "output_type": "stream",
          "name": "stdout",
          "text": [
            "7, 5, 6\n",
            "[7, 5, 6]\n",
            "Сумма 18\n",
            "Среднее 6\n",
            "Минимальное 5\n",
            "Максимальное 7\n"
          ]
        }
      ]
    },
    {
      "cell_type": "markdown",
      "metadata": {
        "id": "KLUTNmQk_v8G"
      },
      "source": [
        "\n",
        "\n",
        "```\n",
        "# Выбран кодовый формат\n",
        "```\n",
        "\n",
        "2. (2 балла) Даны два списка. \"Слить\" их через один (чередуя элементы то одного, то другого списка).\n",
        "\n",
        "`f = [1,2,3]`\n",
        "\n",
        "`s = ['1','2','3']`\n",
        "\n",
        "Ожидаемый результат:\n",
        "\n",
        "`[1, '1', 2, '2', 3, '3']`\n"
      ]
    },
    {
      "cell_type": "markdown",
      "metadata": {
        "id": "1be1P1k5_v8H"
      },
      "source": [
        "* _Список может быть любого размера, а ваш код все равно должен работать._\n",
        "* _можно заработать + 2 балла к заданию, если сделать его в одну строку_"
      ]
    },
    {
      "cell_type": "code",
      "metadata": {
        "id": "y1VqZ_7P_v8H",
        "colab": {
          "base_uri": "https://localhost:8080/"
        },
        "outputId": "37e540e8-91fd-402b-b95a-c65dfee89bff"
      },
      "source": [
        "f = [1,2,3,4,5,6]\n",
        "s = ['1','2','3','4','5','6']\n",
        "result = []\n",
        "for i in range(min(len(f), len(s))):\n",
        "    result.append(s[i])\n",
        "    result.append(f[i])\n",
        "if len(s) > len(f):\n",
        "    result.extend(s[len(f):])\n",
        "else:\n",
        "    result.extend(f[len(s):])\n",
        "\n",
        "print(result)"
      ],
      "execution_count": null,
      "outputs": [
        {
          "output_type": "stream",
          "name": "stdout",
          "text": [
            "['1', 1, '2', 2, '3', 3, '4', 4, '5', 5, '6', 6]\n"
          ]
        }
      ]
    },
    {
      "cell_type": "code",
      "metadata": {
        "colab": {
          "base_uri": "https://localhost:8080/"
        },
        "id": "VX3WB3M0ZZB3",
        "outputId": "79039e13-77f9-429e-973e-f2e189d6fb40"
      },
      "source": [
        "f = [1,2,3,4,5,6]\n",
        "s = ['1','2','3','4','5','6']\n",
        "print(sorted(list(f + s), key=lambda x: int(x)))"
      ],
      "execution_count": null,
      "outputs": [
        {
          "output_type": "stream",
          "name": "stdout",
          "text": [
            "[1, '1', 2, '2', 3, '3', 4, '4', 5, '5', 6, '6']\n"
          ]
        }
      ]
    },
    {
      "cell_type": "markdown",
      "metadata": {
        "id": "wAsDtE_0_v8H"
      },
      "source": [
        "3. (4 балла) Создайте следующий лист: \n",
        "\n",
        "`months = [\n",
        "'Декабрь', 'Январь', 'Февраль',\n",
        "'Март', 'Апрель', 'Май',\n",
        "'Июнь', 'Июль', 'Август',\n",
        "'Сентябрь', 'Октябрь', 'Ноябрь'\n",
        "]`. \n",
        "\n",
        "Ваша задача получить из него:\n",
        "    - все зимние месяцы\n",
        "    - все летние месяцы\n",
        "    - каждый второй месяц года начиная с Января\n",
        "    - первые месяцы каждого сезона (4),\n",
        "\n",
        "используя `slice`."
      ]
    },
    {
      "cell_type": "code",
      "metadata": {
        "id": "ol-aAzBb_v8H",
        "colab": {
          "base_uri": "https://localhost:8080/"
        },
        "outputId": "98b71fa7-f109-424a-ae30-60acd6715da8"
      },
      "source": [
        "months = [ 'Декабрь', 'Январь', 'Февраль', 'Март', 'Апрель', 'Май', 'Июнь', 'Июль', 'Август', 'Сентябрь', 'Октябрь', 'Ноябрь' ]\n",
        "winter = months[:3]\n",
        "summer = months[6:9]\n",
        "every2 = months[1::2]\n",
        "everyf = months[::3]\n",
        "print('Зимние:', winter, '\\nЛетние:', summer, '\\nКаждый второй с января:', every2, '\\nПервооткрыватель сезона:', everyf)"
      ],
      "execution_count": null,
      "outputs": [
        {
          "output_type": "stream",
          "name": "stdout",
          "text": [
            "Зимние: ['Декабрь', 'Январь', 'Февраль'] \n",
            "Летние: ['Июнь', 'Июль', 'Август'] \n",
            "Каждый второй с января: ['Январь', 'Март', 'Май', 'Июль', 'Сентябрь', 'Ноябрь'] \n",
            "Первооткрыватель сезона: ['Декабрь', 'Март', 'Июнь', 'Сентябрь']\n"
          ]
        }
      ]
    },
    {
      "cell_type": "markdown",
      "metadata": {
        "id": "dyFDN1th_v8H"
      },
      "source": [
        "4. (3 балла) Создайте list \n",
        "\n",
        "`weekdays = ['Понедельник', 2, 'Cреда', 'Четверг', 5]`\n",
        "\n",
        "- Исправьте числа 2 и 5 на Вторник и Пятницу соответственно\n",
        "- Добавьте недостающие дни в конец списка\n",
        "- Посчитайте длину итогового листа"
      ]
    },
    {
      "cell_type": "code",
      "metadata": {
        "id": "mpUCmwn4_v8H",
        "colab": {
          "base_uri": "https://localhost:8080/"
        },
        "outputId": "373f1d20-577b-4113-bf80-7f84c9c3632a"
      },
      "source": [
        "weekdays = ['Понедельник', 2, 'Cреда', 'Четверг', 5]\n",
        "weekends = ['Суббота', 'Воскресенье']\n",
        "weekdays.extend(weekends)\n",
        "weekdays.remove(2)\n",
        "weekdays.remove(5)\n",
        "weekdays.insert(1, 'Вторник')\n",
        "weekdays.insert(4, 'Пятница')\n",
        "\n",
        "print(weekdays)\n",
        "print('Длина листа:', len(weekdays))"
      ],
      "execution_count": null,
      "outputs": [
        {
          "output_type": "stream",
          "name": "stdout",
          "text": [
            "['Понедельник', 'Вторник', 'Cреда', 'Четверг', 'Пятница', 'Суббота', 'Воскресенье']\n",
            "Длина листа: 7\n"
          ]
        }
      ]
    },
    {
      "cell_type": "markdown",
      "metadata": {
        "id": "sX7Pyq8d_v8H"
      },
      "source": [
        "5. (3 балла) Создайте строку (str) `'йтцыу фочтмлзирчйнбою асапырйафвялгяшещшоьрскяу!й'`\n",
        "\n",
        "    - Превратите ее в лист символов\n",
        "    - Расшифруйте закодированное в ней сообщение, выбрав из всех символов только символы с **нечетным** индексом\n",
        "    - Превратите полученный лист обратно в строку и напечатайте результат\n",
        "\n",
        "**Hint** вам понадобится функция `.join()`"
      ]
    },
    {
      "cell_type": "code",
      "metadata": {
        "id": "fJozshnzC69S",
        "colab": {
          "base_uri": "https://localhost:8080/"
        },
        "outputId": "8fda8f10-344d-4609-87b4-1f3c6e70c686"
      },
      "source": [
        "s1 = str('йтцыу фочтмлзирчйнбою асапырйафвялгяшещшоьрскяу!й')\n",
        "s_list = list(s1)\n",
        "result = []\n",
        "for i in range(len(s_list)):\n",
        "    if i % 2 != 0:\n",
        "        temp = list(s_list[i])\n",
        "        #print(temp)\n",
        "        result += temp\n",
        "result = ''.join(result)\n",
        "print(result.capitalize())"
      ],
      "execution_count": null,
      "outputs": [
        {
          "output_type": "stream",
          "name": "stdout",
          "text": [
            "Ты отлично справляешься!\n"
          ]
        }
      ]
    },
    {
      "cell_type": "markdown",
      "metadata": {
        "id": "hI1vaX97DLgo"
      },
      "source": [
        "6. (2 балла) Дан список (придумайте любой и положите в переменную `my_list`, `input()` использовать не нужно). Проверить, содержит ли данный список повторяющиеся элементы, удалить повторяющиеся элементы (без использования `dict` и `set`)"
      ]
    },
    {
      "cell_type": "code",
      "metadata": {
        "id": "c4_1mkhp_v8H",
        "colab": {
          "base_uri": "https://localhost:8080/"
        },
        "outputId": "b56b803f-d926-4d69-f531-9c90a6e7faa6"
      },
      "source": [
        "my_list = [1, 2, 2, 3, 3, 3]\n",
        "print('Первоначальный лист:\\n', my_list)\n",
        "score = 0\n",
        "for i in my_list:\n",
        "    temp = my_list.count(i)\n",
        "    if temp == 1:\n",
        "        score += 1\n",
        "        continue\n",
        "    while temp != 1:\n",
        "        my_list.remove(i)\n",
        "        temp = my_list.count(i)\n",
        "if score == len(my_list):\n",
        "    print('Повторов не обнаружено')\n",
        "else:\n",
        "    print('Почистили от повторов:\\n', my_list)"
      ],
      "execution_count": null,
      "outputs": [
        {
          "output_type": "stream",
          "name": "stdout",
          "text": [
            "Первоначальный лист:\n",
            " [1, 2, 2, 3, 3, 3]\n",
            "Почистили от повторов:\n",
            " [1, 2, 3]\n"
          ]
        }
      ]
    },
    {
      "cell_type": "markdown",
      "metadata": {
        "id": "nSJWKkvq_v8I"
      },
      "source": [
        "### Часть 2. Кортежи (3 балла)"
      ]
    },
    {
      "cell_type": "code",
      "metadata": {
        "id": "Iz9PGt_9Mu40"
      },
      "source": [
        ""
      ],
      "execution_count": null,
      "outputs": []
    },
    {
      "cell_type": "markdown",
      "metadata": {
        "id": "hFX4GTq1_v8I"
      },
      "source": [
        "29. (1 балл) Создать кортеж из одного элемента."
      ]
    },
    {
      "cell_type": "code",
      "metadata": {
        "id": "_qcdWtzz_v8I",
        "colab": {
          "base_uri": "https://localhost:8080/"
        },
        "outputId": "9d162a6c-9f67-416a-8ecc-0ee430ef2a6f"
      },
      "source": [
        "limusin = (1,)\n",
        "print(limusin)"
      ],
      "execution_count": null,
      "outputs": [
        {
          "output_type": "stream",
          "name": "stdout",
          "text": [
            "(1,)\n"
          ]
        }
      ]
    },
    {
      "cell_type": "markdown",
      "metadata": {
        "id": "WFrsJtZr_v8I"
      },
      "source": [
        "30. (1 балл) Создайте кортеж из списка, напечатайте его.\n",
        "\n",
        "`months = [\n",
        "'Январь', 'Февраль',\n",
        "'Март', 'Апрель', 'Май',\n",
        "'Июнь', 'Июль', 'Август',\n",
        "'Сентябрь', 'Октябрь', 'Ноябрь'\n",
        "]`"
      ]
    },
    {
      "cell_type": "code",
      "metadata": {
        "id": "1zL4nMN4_v8I",
        "colab": {
          "base_uri": "https://localhost:8080/"
        },
        "outputId": "ff6d41a5-c6b6-4d05-f24c-c86227dd629f"
      },
      "source": [
        "months = [ 'Январь', 'Февраль', 'Март', 'Апрель', 'Май', 'Июнь', 'Июль', 'Август', 'Сентябрь', 'Октябрь', 'Ноябрь' ]\n",
        "limusin = tuple(months)\n",
        "print(limusin)"
      ],
      "execution_count": null,
      "outputs": [
        {
          "output_type": "stream",
          "name": "stdout",
          "text": [
            "('Январь', 'Февраль', 'Март', 'Апрель', 'Май', 'Июнь', 'Июль', 'Август', 'Сентябрь', 'Октябрь', 'Ноябрь')\n"
          ]
        }
      ]
    },
    {
      "cell_type": "markdown",
      "metadata": {
        "id": "iGn7e0Ow_v8I"
      },
      "source": [
        "31. (1 балл) Добавьте недостающий месяц (на выходе ожидается кортеж)"
      ]
    },
    {
      "cell_type": "code",
      "metadata": {
        "id": "ZdD0BuYU_v8I",
        "colab": {
          "base_uri": "https://localhost:8080/"
        },
        "outputId": "76849493-7c5b-4227-db4a-aa8af7db3342"
      },
      "source": [
        "months = [ 'Январь', 'Февраль', 'Март', 'Апрель', 'Май', 'Июнь', 'Июль', 'Август', 'Сентябрь', 'Октябрь', 'Ноябрь' ]\n",
        "months.insert(0, 'Декабрь')\n",
        "limusin = tuple(months)\n",
        "print(limusin)"
      ],
      "execution_count": null,
      "outputs": [
        {
          "output_type": "stream",
          "name": "stdout",
          "text": [
            "('Декабрь', 'Январь', 'Февраль', 'Март', 'Апрель', 'Май', 'Июнь', 'Июль', 'Август', 'Сентябрь', 'Октябрь', 'Ноябрь')\n"
          ]
        }
      ]
    },
    {
      "cell_type": "markdown",
      "metadata": {
        "id": "netCKvWK_v8I"
      },
      "source": [
        "### Часть 3. Сеты (4 балла)"
      ]
    },
    {
      "cell_type": "markdown",
      "metadata": {
        "id": "vmpZWO8Z_v8I"
      },
      "source": [
        "32. (1 балл) Посчитать, сколько различных букв в слове 'превысокомногорассмотрительствующий'"
      ]
    },
    {
      "cell_type": "code",
      "metadata": {
        "id": "IUBHgO78_v8J",
        "colab": {
          "base_uri": "https://localhost:8080/"
        },
        "outputId": "1729bbe5-cd2e-46a0-8a3f-148974c23c16"
      },
      "source": [
        "s1 = 'превысокомногорассмотрительствующий'\n",
        "print('В слове', s1, len(set(s1)), 'различных букв')"
      ],
      "execution_count": null,
      "outputs": [
        {
          "output_type": "stream",
          "name": "stdout",
          "text": [
            "В слове превысокомногорассмотрительствующий 20 различных букв\n"
          ]
        }
      ]
    },
    {
      "cell_type": "markdown",
      "metadata": {
        "id": "EtPaMLQO_v8J"
      },
      "source": [
        "[Текст ссылки](https:// [Текст ссылки](https://))33. (1 балл) Какие различные буквы имеют слова \"превысокомногорассмотрительствующий\" и \"водогрязеторфопарафинолечение\"?"
      ]
    },
    {
      "cell_type": "code",
      "metadata": {
        "id": "dwIdysLu_v8J",
        "colab": {
          "base_uri": "https://localhost:8080/"
        },
        "outputId": "b6ecd7ae-dc3e-4049-945d-4fdb1ce38d58"
      },
      "source": [
        "s1 = 'превысокомногорассмотрительствующий'\n",
        "s2 = 'водогрязеторфопарафинолечение'\n",
        "s11 = set(s1)\n",
        "s22 = set(s2)\n",
        "result = s22.symmetric_difference(s11)\n",
        "print(result)"
      ],
      "execution_count": null,
      "outputs": [
        {
          "output_type": "stream",
          "name": "stdout",
          "text": [
            "{'ю', 'й', 'щ', 'ч', 'ы', 'ь', 'с', 'к', 'ф', 'з', 'м', 'я', 'у', 'д'}\n"
          ]
        }
      ]
    },
    {
      "cell_type": "markdown",
      "metadata": {
        "id": "UQxsVL3w_v8J"
      },
      "source": [
        "34. (1 балл) Какие общие буквы имеют слова \"превысокомногорассмотрительствующий\" и \"водогрязеторфопарафинолечение\"?"
      ]
    },
    {
      "cell_type": "code",
      "metadata": {
        "id": "unSFfV_a_v8J",
        "colab": {
          "base_uri": "https://localhost:8080/"
        },
        "outputId": "32695aef-03e0-4d3a-b652-ca24bf247ccc"
      },
      "source": [
        "result = s22.intersection(s11)\n",
        "print(result)"
      ],
      "execution_count": null,
      "outputs": [
        {
          "output_type": "stream",
          "name": "stdout",
          "text": [
            "{'а', 'н', 'в', 'л', 'г', 'и', 'р', 'е', 'п', 'о', 'т'}\n"
          ]
        }
      ]
    },
    {
      "cell_type": "markdown",
      "metadata": {
        "id": "GauGi3oF_v8J"
      },
      "source": [
        "35. (1 балл) Есть ли буквы в слове \"превысокомногорассмотрительствующий\", которых нет в слове \"водогрязеторфопарафинолечение\"? А наоборот?"
      ]
    },
    {
      "cell_type": "code",
      "metadata": {
        "id": "TfTtSHFY_v8J",
        "colab": {
          "base_uri": "https://localhost:8080/"
        },
        "outputId": "608ce5e1-1885-4d83-81e2-a31922c4ad7b"
      },
      "source": [
        "s1 = 'превысокомногорассмотрительствующий'\n",
        "s2 = 'водогрязеторфопарафинолечение'\n",
        "s11 = set(s1)\n",
        "s22 = set(s2)\n",
        "result1 = s22.difference(s11)\n",
        "result2 = s11.difference(s22)\n",
        "print('В слове', s1, 'нет букв\\n', result1)\n",
        "print('В слове', s2, 'нет букв\\n',result2)"
      ],
      "execution_count": null,
      "outputs": [
        {
          "output_type": "stream",
          "name": "stdout",
          "text": [
            "В слове превысокомногорассмотрительствующий нет букв\n",
            " {'ф', 'з', 'я', 'ч', 'д'}\n",
            "В слове водогрязеторфопарафинолечение нет букв\n",
            " {'ь', 'ю', 'с', 'й', 'к', 'щ', 'м', 'у', 'ы'}\n"
          ]
        }
      ]
    },
    {
      "cell_type": "markdown",
      "metadata": {
        "id": "E2sczfkn_v8J"
      },
      "source": [
        "### Часть 6. Словари и полезные вещи (10 баллов)"
      ]
    },
    {
      "cell_type": "markdown",
      "metadata": {
        "id": "VxZ4E8JhEHxD"
      },
      "source": [
        "Дан текст. Текст приведен к начальной форме уже за вас (мы это научимся делать на следующем занятии).\n",
        "```\n",
        "1. DJ Khaled замутить трек, в который читать только Drake. \n",
        "2. Drake организовывать на этот песня очень крутой клип, в который вместо он сниматься только джастин бибер.\n",
        "\n",
        "видимо, награда за весь это быть получать леонардо дикаприо 😅\n",
        "\n",
        "в клип джастин, кстати, выглядеть очень бодрый и наконец выздоравливать от болезнь и депрессия.\n",
        "отдельный прикол в то, что он там «читать» строчка про свой бывший девушка селен гомес, про себя сам и про то, насколько дрейк - крутой они все и взрывать индустрия 😂🤟\n",
        "```"
      ]
    },
    {
      "cell_type": "markdown",
      "metadata": {
        "id": "hGBIV3hS_v8K"
      },
      "source": [
        "36. (1 балл) Запишите его в переменную. Обратите внимание, что текст многострочный -- переносы строки нужно сохранить!"
      ]
    },
    {
      "cell_type": "code",
      "metadata": {
        "id": "BLB2YgyY_v8K"
      },
      "source": [
        "from string import punctuation\n",
        "\n",
        "\n",
        "T = '''1. DJ Khaled замутить трек, в который читать только Drake. \n",
        "2. Drake организовывать на этот песня очень крутой клип, в который вместо он сниматься только джастин бибер.\n",
        "\n",
        "видимо, награда за весь это быть получать леонардо дикаприо 😅\n",
        "\n",
        "в клип джастин, кстати, выглядеть очень бодрый и наконец выздоравливать от болезнь и депрессия.\n",
        "отдельный прикол в то, что он там «читать» строчка про свой бывший девушка селен гомес, про себя  '''"
      ],
      "execution_count": 6,
      "outputs": []
    },
    {
      "cell_type": "markdown",
      "metadata": {
        "id": "Z2529Ids_v8K"
      },
      "source": [
        "37. (1 балл) Разделите текст на предложения (используя `\"\\n\"`) "
      ]
    },
    {
      "cell_type": "code",
      "metadata": {
        "id": "DWR1Ckig_v8K",
        "colab": {
          "base_uri": "https://localhost:8080/"
        },
        "outputId": "8bb39ffc-4db7-43a6-d40b-dc239e9ede69"
      },
      "source": [
        "sentences = T.split('\\n')\n",
        "print(sentences)"
      ],
      "execution_count": 7,
      "outputs": [
        {
          "output_type": "stream",
          "name": "stdout",
          "text": [
            "['1. DJ Khaled замутить трек, в который читать только Drake. ', '2. Drake организовывать на этот песня очень крутой клип, в который вместо он сниматься только джастин бибер.', '', 'видимо, награда за весь это быть получать леонардо дикаприо 😅', '', 'в клип джастин, кстати, выглядеть очень бодрый и наконец выздоравливать от болезнь и депрессия.', 'отдельный прикол в то, что он там «читать» строчка про свой бывший девушка селен гомес, про себя  ']\n"
          ]
        }
      ]
    },
    {
      "cell_type": "markdown",
      "metadata": {
        "id": "pa1_7zAS_v8K"
      },
      "source": [
        "38. (2 балла) Разделите предложения на слова, удалите пунктуацию до и после слов, используя `.strip()`. И кавычки тоже удалите."
      ]
    },
    {
      "cell_type": "code",
      "metadata": {
        "id": "Fj0ZPwO1_v8K",
        "colab": {
          "base_uri": "https://localhost:8080/"
        },
        "outputId": "2abdc685-a03e-45d3-e1cc-ff8ccc8a9111"
      },
      "source": [
        "all_words = []\n",
        "for sentence in sentences:\n",
        "    if sentence:\n",
        "        all_words.append([i.strip(punctuation + \"«»\") for i in sentence.split()])\n",
        "print(all_words)  "
      ],
      "execution_count": 8,
      "outputs": [
        {
          "output_type": "stream",
          "name": "stdout",
          "text": [
            "[['1', 'DJ', 'Khaled', 'замутить', 'трек', 'в', 'который', 'читать', 'только', 'Drake'], ['2', 'Drake', 'организовывать', 'на', 'этот', 'песня', 'очень', 'крутой', 'клип', 'в', 'который', 'вместо', 'он', 'сниматься', 'только', 'джастин', 'бибер'], ['видимо', 'награда', 'за', 'весь', 'это', 'быть', 'получать', 'леонардо', 'дикаприо', '😅'], ['в', 'клип', 'джастин', 'кстати', 'выглядеть', 'очень', 'бодрый', 'и', 'наконец', 'выздоравливать', 'от', 'болезнь', 'и', 'депрессия'], ['отдельный', 'прикол', 'в', 'то', 'что', 'он', 'там', 'читать', 'строчка', 'про', 'свой', 'бывший', 'девушка', 'селен', 'гомес', 'про', 'себя']]\n"
          ]
        }
      ]
    },
    {
      "cell_type": "markdown",
      "metadata": {
        "id": "H6JJW1GH_v8K"
      },
      "source": [
        "39. (2 балла) Создайте словарь, в котором ключ -- слово из текста, а значение -- количество раз, сколько оно встречается во всем тексте.\n",
        "\n",
        "например:\n",
        "\n",
        "`dct = {\"go\": 1, \"went\": 2, \"gone\": 3}`\n",
        "\n",
        "Напечатайте словарь"
      ]
    },
    {
      "cell_type": "code",
      "metadata": {
        "id": "cy5_T8yM_v8L",
        "colab": {
          "base_uri": "https://localhost:8080/"
        },
        "outputId": "0b63bbf5-de66-4811-ff3a-33ce9ea7fbe8"
      },
      "source": [
        "dictionary = {}\n",
        "for sentence in all_words:\n",
        "    for word in sentence:\n",
        "        dictionary.setdefault(word, 0)\n",
        "        dictionary[word] += 1\n",
        "print(dictionary)"
      ],
      "execution_count": 11,
      "outputs": [
        {
          "output_type": "stream",
          "name": "stdout",
          "text": [
            "{'1': 1, 'DJ': 1, 'Khaled': 1, 'замутить': 1, 'трек': 1, 'в': 4, 'который': 2, 'читать': 2, 'только': 2, 'Drake': 2, '2': 1, 'организовывать': 1, 'на': 1, 'этот': 1, 'песня': 1, 'очень': 2, 'крутой': 1, 'клип': 2, 'вместо': 1, 'он': 2, 'сниматься': 1, 'джастин': 2, 'бибер': 1, 'видимо': 1, 'награда': 1, 'за': 1, 'весь': 1, 'это': 1, 'быть': 1, 'получать': 1, 'леонардо': 1, 'дикаприо': 1, '😅': 1, 'кстати': 1, 'выглядеть': 1, 'бодрый': 1, 'и': 2, 'наконец': 1, 'выздоравливать': 1, 'от': 1, 'болезнь': 1, 'депрессия': 1, 'отдельный': 1, 'прикол': 1, 'то': 1, 'что': 1, 'там': 1, 'строчка': 1, 'про': 2, 'свой': 1, 'бывший': 1, 'девушка': 1, 'селен': 1, 'гомес': 1, 'себя': 1}\n"
          ]
        }
      ]
    },
    {
      "cell_type": "markdown",
      "metadata": {
        "id": "lCKeMfMY_v8L"
      },
      "source": [
        "40. (2 балла) Напечатайте слова, встречающиеся более 1 раза в формате `\"слово кол-во раз\"` через пробел.\n",
        "\n",
        "    * Если сможете напечатать в порядке убывания (от большего к меньшему) + 2 балла"
      ]
    },
    {
      "cell_type": "code",
      "metadata": {
        "id": "bd5BAdeu_v8L",
        "colab": {
          "base_uri": "https://localhost:8080/"
        },
        "outputId": "9cb8b086-2612-4d02-e3f2-93f048c71c8c"
      },
      "source": [
        "sostav = list(dictionary.items())\n",
        "sostav.sort(key=lambda x: -x[1])\n",
        "for word, value in sostav:\n",
        "    if value == 1:\n",
        "        break\n",
        "    print(word, value)"
      ],
      "execution_count": 16,
      "outputs": [
        {
          "output_type": "stream",
          "name": "stdout",
          "text": [
            "в 4\n",
            "который 2\n",
            "читать 2\n",
            "только 2\n",
            "Drake 2\n",
            "очень 2\n",
            "клип 2\n",
            "он 2\n",
            "джастин 2\n",
            "и 2\n",
            "про 2\n"
          ]
        }
      ]
    },
    {
      "cell_type": "markdown",
      "metadata": {
        "id": "6mEkbtQk_v8M"
      },
      "source": [
        "41. (2 балла) Пользователь вводит с клавиатуры какое-нибудь слово.\n",
        "Проверяем, есть ли слово в массиве: если нет, добавляем его туда и печатаем \"Слово X добавлено\", а если есть, то печатаем ответ \"Слово X в тексте N раз\"."
      ]
    },
    {
      "cell_type": "code",
      "metadata": {
        "id": "JvQMP8wR_v8M",
        "colab": {
          "base_uri": "https://localhost:8080/"
        },
        "outputId": "96065ec8-fae3-4f4e-f605-151b071e2d07"
      },
      "source": [
        "i_string = input()\n",
        "if dictionary.setdefault(i_string, 0):\n",
        "  dictionary[i_string] += 1\n",
        "  print(\"Слово\", i_string, \"в тексте\", dictionary[i_string], \"раз\")\n",
        "else:\n",
        "  dictionary[i_string] += 1\n",
        "  print(\"Слово\", i_string, \"добавлено\")"
      ],
      "execution_count": 20,
      "outputs": [
        {
          "output_type": "stream",
          "name": "stdout",
          "text": [
            "который\n",
            "Слово который в тексте 4 раз\n"
          ]
        }
      ]
    },
    {
      "cell_type": "markdown",
      "metadata": {
        "id": "YTZ_hhhBFasx"
      },
      "source": [
        "## Задания со звездочкой (9 или 10 можно получить, решив эти задания)"
      ]
    },
    {
      "cell_type": "markdown",
      "metadata": {
        "id": "159FPHDYFpk1"
      },
      "source": [
        "42. По заданному n вывести левосторонний треугольник из следующих цифр:\n"
      ]
    },
    {
      "cell_type": "code",
      "metadata": {
        "colab": {
          "base_uri": "https://localhost:8080/"
        },
        "id": "KqJoZEUIFaEd",
        "outputId": "ce1ab96b-77f9-4f21-f03a-d1c13549a354"
      },
      "source": [
        "print('Введите n')\n",
        "n = int(input())\n",
        "for i in range(n + 1):\n",
        "    s = ''\n",
        "    for j in range (i + 1):\n",
        "        s += str(j) + ' '\n",
        "    print(s)"
      ],
      "execution_count": 21,
      "outputs": [
        {
          "output_type": "stream",
          "name": "stdout",
          "text": [
            "Введите n\n",
            "9\n",
            "0 \n",
            "0 1 \n",
            "0 1 2 \n",
            "0 1 2 3 \n",
            "0 1 2 3 4 \n",
            "0 1 2 3 4 5 \n",
            "0 1 2 3 4 5 6 \n",
            "0 1 2 3 4 5 6 7 \n",
            "0 1 2 3 4 5 6 7 8 \n",
            "0 1 2 3 4 5 6 7 8 9 \n"
          ]
        }
      ]
    },
    {
      "cell_type": "markdown",
      "metadata": {
        "id": "-9rUNF4-Fofe"
      },
      "source": [
        "43. По заданному n вывести перевернутый правосторонний треугольник из следующих цифр"
      ]
    },
    {
      "cell_type": "code",
      "metadata": {
        "colab": {
          "base_uri": "https://localhost:8080/"
        },
        "id": "Sa7ZDOa-Fm7O",
        "outputId": "8810454e-d9e2-465a-d6b8-a55d47a38fd0"
      },
      "source": [
        "n = int(input())\n",
        "s = ''.join(str(i) for i in range(n + 1))\n",
        "s = list(s)\n",
        "print(*s)\n",
        "for i in range(n + 1):\n",
        "    s.remove(s[-1])\n",
        "    s.insert(0, ' ')\n",
        "    print(*s)"
      ],
      "execution_count": 2,
      "outputs": [
        {
          "output_type": "stream",
          "name": "stdout",
          "text": [
            "9\n",
            "0 1 2 3 4 5 6 7 8 9\n",
            "  0 1 2 3 4 5 6 7 8\n",
            "    0 1 2 3 4 5 6 7\n",
            "      0 1 2 3 4 5 6\n",
            "        0 1 2 3 4 5\n",
            "          0 1 2 3 4\n",
            "            0 1 2 3\n",
            "              0 1 2\n",
            "                0 1\n",
            "                  0\n",
            "                   \n"
          ]
        }
      ]
    },
    {
      "cell_type": "markdown",
      "metadata": {
        "id": "y1BSSdWe_v8N"
      },
      "source": [
        "#### Напишите ниже вашу обратную связь по домашнему заданию в комментарии. \n",
        "\n",
        "#### Какие задания показались вам самыми сложными / простыми? Что понравилось, а что нет?"
      ]
    },
    {
      "cell_type": "code",
      "metadata": {
        "id": "xciAjxQG_v8N",
        "colab": {
          "base_uri": "https://localhost:8080/",
          "height": 145
        },
        "outputId": "b2262cbb-84f9-4208-b20b-92e601069bef"
      },
      "source": [
        "мало времени на выполнение. в некоторых задачах сложно понять какие входные и выходные данные требуются, что обязательно должен включать в себя код, а что не обязательно"
      ],
      "execution_count": 22,
      "outputs": [
        {
          "output_type": "error",
          "ename": "SyntaxError",
          "evalue": "ignored",
          "traceback": [
            "\u001b[0;36m  File \u001b[0;32m\"<ipython-input-22-0e7e987f0a9e>\"\u001b[0;36m, line \u001b[0;32m1\u001b[0m\n\u001b[0;31m    мало времени на выполнение. в некоторых задачах сложно понять какие входные и выходные данные требуются, что обязательно должен включать в себя код, а что не обязательно\u001b[0m\n\u001b[0m               ^\u001b[0m\n\u001b[0;31mSyntaxError\u001b[0m\u001b[0;31m:\u001b[0m invalid syntax\n"
          ]
        }
      ]
    }
  ]
}